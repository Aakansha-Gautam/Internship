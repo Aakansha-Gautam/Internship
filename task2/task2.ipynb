{
 "cells": [
  {
   "cell_type": "code",
   "execution_count": 4,
   "metadata": {},
   "outputs": [],
   "source": [
    "import pandas as pd\n",
    "import numpy as np"
   ]
  },
  {
   "cell_type": "code",
   "execution_count": 5,
   "metadata": {},
   "outputs": [],
   "source": [
    "df=pd.read_csv('./task2.csv')"
   ]
  },
  {
   "cell_type": "code",
   "execution_count": 6,
   "metadata": {},
   "outputs": [
    {
     "data": {
      "text/html": [
       "<div>\n",
       "<style scoped>\n",
       "    .dataframe tbody tr th:only-of-type {\n",
       "        vertical-align: middle;\n",
       "    }\n",
       "\n",
       "    .dataframe tbody tr th {\n",
       "        vertical-align: top;\n",
       "    }\n",
       "\n",
       "    .dataframe thead th {\n",
       "        text-align: right;\n",
       "    }\n",
       "</style>\n",
       "<table border=\"1\" class=\"dataframe\">\n",
       "  <thead>\n",
       "    <tr style=\"text-align: right;\">\n",
       "      <th></th>\n",
       "      <th>Search_Query</th>\n",
       "      <th>Title</th>\n",
       "      <th>Price</th>\n",
       "      <th>Link</th>\n",
       "    </tr>\n",
       "  </thead>\n",
       "  <tbody>\n",
       "    <tr>\n",
       "      <th>0</th>\n",
       "      <td>pandas</td>\n",
       "      <td>Panda Bear cute funny Vinyl Decal Sticker ligh...</td>\n",
       "      <td>165</td>\n",
       "      <td>https://www.daraz.com.np/products/panda-bear-c...</td>\n",
       "    </tr>\n",
       "    <tr>\n",
       "      <th>1</th>\n",
       "      <td>pandas</td>\n",
       "      <td>Wall Sticker for Living Room - Panda Playing o...</td>\n",
       "      <td>699</td>\n",
       "      <td>https://www.daraz.com.np/products/wall-sticker...</td>\n",
       "    </tr>\n",
       "    <tr>\n",
       "      <th>2</th>\n",
       "      <td>pandas</td>\n",
       "      <td>Pandas Hugs Wall Sticker 90cm(H) x 70cm(W)</td>\n",
       "      <td>999</td>\n",
       "      <td>https://www.daraz.com.np/products/pandas-hugs-...</td>\n",
       "    </tr>\n",
       "    <tr>\n",
       "      <th>3</th>\n",
       "      <td>pandas</td>\n",
       "      <td>Baby Panda Sleeping on Moon Wall Sticker 65cm(...</td>\n",
       "      <td>474</td>\n",
       "      <td>https://www.daraz.com.np/products/baby-panda-s...</td>\n",
       "    </tr>\n",
       "    <tr>\n",
       "      <th>4</th>\n",
       "      <td>pandas</td>\n",
       "      <td>Panda Boy on Rainbow and 90 Stars Wall Sticker...</td>\n",
       "      <td>474</td>\n",
       "      <td>https://www.daraz.com.np/products/panda-boy-on...</td>\n",
       "    </tr>\n",
       "  </tbody>\n",
       "</table>\n",
       "</div>"
      ],
      "text/plain": [
       "  Search_Query                                              Title Price  \\\n",
       "0       pandas  Panda Bear cute funny Vinyl Decal Sticker ligh...   165   \n",
       "1       pandas  Wall Sticker for Living Room - Panda Playing o...   699   \n",
       "2       pandas         Pandas Hugs Wall Sticker 90cm(H) x 70cm(W)   999   \n",
       "3       pandas  Baby Panda Sleeping on Moon Wall Sticker 65cm(...   474   \n",
       "4       pandas  Panda Boy on Rainbow and 90 Stars Wall Sticker...   474   \n",
       "\n",
       "                                                Link  \n",
       "0  https://www.daraz.com.np/products/panda-bear-c...  \n",
       "1  https://www.daraz.com.np/products/wall-sticker...  \n",
       "2  https://www.daraz.com.np/products/pandas-hugs-...  \n",
       "3  https://www.daraz.com.np/products/baby-panda-s...  \n",
       "4  https://www.daraz.com.np/products/panda-boy-on...  "
      ]
     },
     "execution_count": 6,
     "metadata": {},
     "output_type": "execute_result"
    }
   ],
   "source": [
    "df.head()"
   ]
  },
  {
   "cell_type": "code",
   "execution_count": 7,
   "metadata": {},
   "outputs": [
    {
     "data": {
      "text/plain": [
       "numpy.int64"
      ]
     },
     "execution_count": 7,
     "metadata": {},
     "output_type": "execute_result"
    }
   ],
   "source": [
    "df[\"Price\"] = df[\"Price\"].str.replace(\",\",\"\")\n",
    "df[\"Price\"] = df[\"Price\"].astype(np.int64)\n",
    "type(df[\"Price\"][0])"
   ]
  },
  {
   "cell_type": "code",
   "execution_count": 8,
   "metadata": {},
   "outputs": [
    {
     "data": {
      "text/plain": [
       "Search_Query                                               pandas\n",
       "Title           Wall Sticker for Living Room - Panda Playing o...\n",
       "Price                                                         699\n",
       "Link            https://www.daraz.com.np/products/wall-sticker...\n",
       "Name: 1, dtype: object"
      ]
     },
     "execution_count": 8,
     "metadata": {},
     "output_type": "execute_result"
    }
   ],
   "source": [
    "\n",
    "df.iloc[1]"
   ]
  },
  {
   "cell_type": "code",
   "execution_count": 9,
   "metadata": {},
   "outputs": [
    {
     "data": {
      "text/plain": [
       "Search_Query                                               pandas\n",
       "Title                     Black/white Soft 110 Cm Tall Panda Bear\n",
       "Price                                                        2375\n",
       "Link            https://www.daraz.com.np/products/blackwhite-s...\n",
       "Name: 39, dtype: object"
      ]
     },
     "execution_count": 9,
     "metadata": {},
     "output_type": "execute_result"
    }
   ],
   "source": [
    "df.iloc[-1]"
   ]
  },
  {
   "cell_type": "code",
   "execution_count": 10,
   "metadata": {},
   "outputs": [],
   "source": [
    "first_value=df.iloc[0].Search_Query"
   ]
  },
  {
   "cell_type": "code",
   "execution_count": 11,
   "metadata": {},
   "outputs": [
    {
     "data": {
      "text/html": [
       "<div>\n",
       "<style scoped>\n",
       "    .dataframe tbody tr th:only-of-type {\n",
       "        vertical-align: middle;\n",
       "    }\n",
       "\n",
       "    .dataframe tbody tr th {\n",
       "        vertical-align: top;\n",
       "    }\n",
       "\n",
       "    .dataframe thead th {\n",
       "        text-align: right;\n",
       "    }\n",
       "</style>\n",
       "<table border=\"1\" class=\"dataframe\">\n",
       "  <thead>\n",
       "    <tr style=\"text-align: right;\">\n",
       "      <th></th>\n",
       "      <th>Search_Query</th>\n",
       "      <th>Title</th>\n",
       "      <th>Price</th>\n",
       "      <th>Link</th>\n",
       "    </tr>\n",
       "  </thead>\n",
       "  <tbody>\n",
       "    <tr>\n",
       "      <th>0</th>\n",
       "      <td>pandas</td>\n",
       "      <td>Panda Bear cute funny Vinyl Decal Sticker ligh...</td>\n",
       "      <td>165</td>\n",
       "      <td>https://www.daraz.com.np/products/panda-bear-c...</td>\n",
       "    </tr>\n",
       "    <tr>\n",
       "      <th>1</th>\n",
       "      <td>pandas</td>\n",
       "      <td>Wall Sticker for Living Room - Panda Playing o...</td>\n",
       "      <td>699</td>\n",
       "      <td>https://www.daraz.com.np/products/wall-sticker...</td>\n",
       "    </tr>\n",
       "    <tr>\n",
       "      <th>2</th>\n",
       "      <td>pandas</td>\n",
       "      <td>Pandas Hugs Wall Sticker 90cm(H) x 70cm(W)</td>\n",
       "      <td>999</td>\n",
       "      <td>https://www.daraz.com.np/products/pandas-hugs-...</td>\n",
       "    </tr>\n",
       "    <tr>\n",
       "      <th>3</th>\n",
       "      <td>pandas</td>\n",
       "      <td>Baby Panda Sleeping on Moon Wall Sticker 65cm(...</td>\n",
       "      <td>474</td>\n",
       "      <td>https://www.daraz.com.np/products/baby-panda-s...</td>\n",
       "    </tr>\n",
       "    <tr>\n",
       "      <th>4</th>\n",
       "      <td>pandas</td>\n",
       "      <td>Panda Boy on Rainbow and 90 Stars Wall Sticker...</td>\n",
       "      <td>474</td>\n",
       "      <td>https://www.daraz.com.np/products/panda-boy-on...</td>\n",
       "    </tr>\n",
       "  </tbody>\n",
       "</table>\n",
       "</div>"
      ],
      "text/plain": [
       "  Search_Query                                              Title  Price  \\\n",
       "0       pandas  Panda Bear cute funny Vinyl Decal Sticker ligh...    165   \n",
       "1       pandas  Wall Sticker for Living Room - Panda Playing o...    699   \n",
       "2       pandas         Pandas Hugs Wall Sticker 90cm(H) x 70cm(W)    999   \n",
       "3       pandas  Baby Panda Sleeping on Moon Wall Sticker 65cm(...    474   \n",
       "4       pandas  Panda Boy on Rainbow and 90 Stars Wall Sticker...    474   \n",
       "\n",
       "                                                Link  \n",
       "0  https://www.daraz.com.np/products/panda-bear-c...  \n",
       "1  https://www.daraz.com.np/products/wall-sticker...  \n",
       "2  https://www.daraz.com.np/products/pandas-hugs-...  \n",
       "3  https://www.daraz.com.np/products/baby-panda-s...  \n",
       "4  https://www.daraz.com.np/products/panda-boy-on...  "
      ]
     },
     "execution_count": 11,
     "metadata": {},
     "output_type": "execute_result"
    }
   ],
   "source": [
    "df2 = df.stack().reset_index()\n",
    "df2= df2.rename(columns={'level_0': 'Index','level_1':'Topic', 0: 'Value'})\n",
    "df.head()"
   ]
  },
  {
   "cell_type": "code",
   "execution_count": 12,
   "metadata": {},
   "outputs": [
    {
     "name": "stdout",
     "output_type": "stream",
     "text": [
      "4\n"
     ]
    }
   ],
   "source": [
    "column_length=df.columns[:]\n",
    "column_length\n",
    "c_l=len(column_length)\n",
    "print(c_l)"
   ]
  },
  {
   "cell_type": "code",
   "execution_count": 13,
   "metadata": {},
   "outputs": [],
   "source": [
    "df2.drop(df2.loc[df2['Topic']==\"index\"].index, inplace=True)"
   ]
  },
  {
   "cell_type": "code",
   "execution_count": null,
   "metadata": {},
   "outputs": [],
   "source": [
    "loc_index=0\n",
    "i=0\n",
    "j=1\n",
    "k=1\n",
    "indexing=[]\n",
    "first_value=df.iloc[0].Search_Query\n",
    "\n",
    "\n",
    "for d in df['Search_Query']:\n",
    "    i+=1\n",
    "    if(first_value!=d):\n",
    "        j+=1\n",
    "        i=1\n",
    "        first_value=d\n",
    "    for a in range (1,c_l+1):\n",
    "        indexing.append(str(j)+\".\"+str(i)+\".\"+str(a))"
   ]
  },
  {
   "cell_type": "code",
   "execution_count": null,
   "metadata": {},
   "outputs": [],
   "source": [
    "df2['Index']=pd.Series(indexing)"
   ]
  },
  {
   "cell_type": "code",
   "execution_count": null,
   "metadata": {},
   "outputs": [],
   "source": [
    "df2.to_csv(\"final_index.csv\",index=False)"
   ]
  },
  {
   "cell_type": "code",
   "execution_count": null,
   "metadata": {},
   "outputs": [],
   "source": []
  }
 ],
 "metadata": {
  "kernelspec": {
   "display_name": "newenv",
   "language": "python",
   "name": "python3"
  },
  "language_info": {
   "codemirror_mode": {
    "name": "ipython",
    "version": 3
   },
   "file_extension": ".py",
   "mimetype": "text/x-python",
   "name": "python",
   "nbconvert_exporter": "python",
   "pygments_lexer": "ipython3",
   "version": "3.10.4"
  },
  "orig_nbformat": 4,
  "vscode": {
   "interpreter": {
    "hash": "99b355def4bb4121c1dc3174e7d1d2eb760714eb0831c8072bb053801a570616"
   }
  }
 },
 "nbformat": 4,
 "nbformat_minor": 2
}
