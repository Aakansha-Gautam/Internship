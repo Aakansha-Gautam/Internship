{
 "cells": [
  {
   "cell_type": "code",
   "execution_count": 54,
   "metadata": {},
   "outputs": [],
   "source": [
    "import pandas as pd\n",
    "import numpy as np"
   ]
  },
  {
   "cell_type": "code",
   "execution_count": 55,
   "metadata": {},
   "outputs": [],
   "source": [
    "\n",
    "df = pd.read_json ('recipes.json', lines=True)\n",
    "df.to_csv('final_csv.csv',index = None)"
   ]
  },
  {
   "cell_type": "code",
   "execution_count": 56,
   "metadata": {},
   "outputs": [],
   "source": [
    "\n",
    "df['unit'] = df['unit'].replace(\" \", np.nan)"
   ]
  },
  {
   "cell_type": "code",
   "execution_count": 63,
   "metadata": {},
   "outputs": [],
   "source": [
    "df.dropna(inplace=True)"
   ]
  },
  {
   "cell_type": "code",
   "execution_count": 64,
   "metadata": {},
   "outputs": [
    {
     "data": {
      "text/html": [
       "<div>\n",
       "<style scoped>\n",
       "    .dataframe tbody tr th:only-of-type {\n",
       "        vertical-align: middle;\n",
       "    }\n",
       "\n",
       "    .dataframe tbody tr th {\n",
       "        vertical-align: top;\n",
       "    }\n",
       "\n",
       "    .dataframe thead th {\n",
       "        text-align: right;\n",
       "    }\n",
       "</style>\n",
       "<table border=\"1\" class=\"dataframe\">\n",
       "  <thead>\n",
       "    <tr style=\"text-align: right;\">\n",
       "      <th></th>\n",
       "      <th>ingredients</th>\n",
       "      <th>id</th>\n",
       "      <th>missedIngredientCount</th>\n",
       "      <th>type</th>\n",
       "      <th>aisle</th>\n",
       "      <th>usedIngridientCount</th>\n",
       "      <th>title</th>\n",
       "      <th>name</th>\n",
       "      <th>unit</th>\n",
       "      <th>amount</th>\n",
       "    </tr>\n",
       "  </thead>\n",
       "  <tbody>\n",
       "    <tr>\n",
       "      <th>0</th>\n",
       "      <td>apple</td>\n",
       "      <td>673463</td>\n",
       "      <td>2</td>\n",
       "      <td>missed__ingredient</td>\n",
       "      <td>Canned and Jarred</td>\n",
       "      <td>2</td>\n",
       "      <td>Slow Cooker Apple Pork Tenderloin</td>\n",
       "      <td>beef broth</td>\n",
       "      <td>cups</td>\n",
       "      <td>2.0</td>\n",
       "    </tr>\n",
       "    <tr>\n",
       "      <th>1</th>\n",
       "      <td>apple</td>\n",
       "      <td>673463</td>\n",
       "      <td>2</td>\n",
       "      <td>missed__ingredient</td>\n",
       "      <td>Meat</td>\n",
       "      <td>2</td>\n",
       "      <td>Slow Cooker Apple Pork Tenderloin</td>\n",
       "      <td>pork tenderloin</td>\n",
       "      <td>serving</td>\n",
       "      <td>1.0</td>\n",
       "    </tr>\n",
       "    <tr>\n",
       "      <th>2</th>\n",
       "      <td>apple</td>\n",
       "      <td>673463</td>\n",
       "      <td>2</td>\n",
       "      <td>used__ingredient</td>\n",
       "      <td>Produce</td>\n",
       "      <td>2</td>\n",
       "      <td>Slow Cooker Apple Pork Tenderloin</td>\n",
       "      <td>apple</td>\n",
       "      <td>serving</td>\n",
       "      <td>1.0</td>\n",
       "    </tr>\n",
       "    <tr>\n",
       "      <th>3</th>\n",
       "      <td>apple</td>\n",
       "      <td>673463</td>\n",
       "      <td>2</td>\n",
       "      <td>used__ingredient</td>\n",
       "      <td>Produce</td>\n",
       "      <td>2</td>\n",
       "      <td>Slow Cooker Apple Pork Tenderloin</td>\n",
       "      <td>green apples</td>\n",
       "      <td></td>\n",
       "      <td>2.0</td>\n",
       "    </tr>\n",
       "    <tr>\n",
       "      <th>4</th>\n",
       "      <td>apple</td>\n",
       "      <td>660261</td>\n",
       "      <td>2</td>\n",
       "      <td>missed__ingredient</td>\n",
       "      <td>Spices and Seasonings</td>\n",
       "      <td>1</td>\n",
       "      <td>Slow Cooked Applesauce</td>\n",
       "      <td>cinnamon</td>\n",
       "      <td>teaspoon</td>\n",
       "      <td>0.5</td>\n",
       "    </tr>\n",
       "  </tbody>\n",
       "</table>\n",
       "</div>"
      ],
      "text/plain": [
       "  ingredients      id  missedIngredientCount                type  \\\n",
       "0       apple  673463                      2  missed__ingredient   \n",
       "1       apple  673463                      2  missed__ingredient   \n",
       "2       apple  673463                      2    used__ingredient   \n",
       "3       apple  673463                      2    used__ingredient   \n",
       "4       apple  660261                      2  missed__ingredient   \n",
       "\n",
       "                   aisle  usedIngridientCount  \\\n",
       "0      Canned and Jarred                    2   \n",
       "1                   Meat                    2   \n",
       "2                Produce                    2   \n",
       "3                Produce                    2   \n",
       "4  Spices and Seasonings                    1   \n",
       "\n",
       "                               title             name      unit  amount  \n",
       "0  Slow Cooker Apple Pork Tenderloin       beef broth      cups     2.0  \n",
       "1  Slow Cooker Apple Pork Tenderloin  pork tenderloin   serving     1.0  \n",
       "2  Slow Cooker Apple Pork Tenderloin            apple   serving     1.0  \n",
       "3  Slow Cooker Apple Pork Tenderloin     green apples               2.0  \n",
       "4             Slow Cooked Applesauce         cinnamon  teaspoon     0.5  "
      ]
     },
     "execution_count": 64,
     "metadata": {},
     "output_type": "execute_result"
    }
   ],
   "source": [
    "df.head()"
   ]
  },
  {
   "cell_type": "code",
   "execution_count": 32,
   "metadata": {},
   "outputs": [],
   "source": [
    "df2 = df.stack().reset_index()\n",
    "df2= df2.rename(columns={'level_0': 'Index','level_1':'Topic', 0: 'Value'})"
   ]
  },
  {
   "cell_type": "code",
   "execution_count": 33,
   "metadata": {},
   "outputs": [
    {
     "data": {
      "text/html": [
       "<div>\n",
       "<style scoped>\n",
       "    .dataframe tbody tr th:only-of-type {\n",
       "        vertical-align: middle;\n",
       "    }\n",
       "\n",
       "    .dataframe tbody tr th {\n",
       "        vertical-align: top;\n",
       "    }\n",
       "\n",
       "    .dataframe thead th {\n",
       "        text-align: right;\n",
       "    }\n",
       "</style>\n",
       "<table border=\"1\" class=\"dataframe\">\n",
       "  <thead>\n",
       "    <tr style=\"text-align: right;\">\n",
       "      <th></th>\n",
       "      <th>Index</th>\n",
       "      <th>Topic</th>\n",
       "      <th>Value</th>\n",
       "    </tr>\n",
       "  </thead>\n",
       "  <tbody>\n",
       "    <tr>\n",
       "      <th>0</th>\n",
       "      <td>0</td>\n",
       "      <td>ingredients</td>\n",
       "      <td>apple</td>\n",
       "    </tr>\n",
       "    <tr>\n",
       "      <th>1</th>\n",
       "      <td>0</td>\n",
       "      <td>id</td>\n",
       "      <td>673463</td>\n",
       "    </tr>\n",
       "    <tr>\n",
       "      <th>2</th>\n",
       "      <td>0</td>\n",
       "      <td>missedIngredientCount</td>\n",
       "      <td>2</td>\n",
       "    </tr>\n",
       "    <tr>\n",
       "      <th>3</th>\n",
       "      <td>0</td>\n",
       "      <td>type</td>\n",
       "      <td>missed__ingredient</td>\n",
       "    </tr>\n",
       "    <tr>\n",
       "      <th>4</th>\n",
       "      <td>0</td>\n",
       "      <td>aisle</td>\n",
       "      <td>Canned and Jarred</td>\n",
       "    </tr>\n",
       "  </tbody>\n",
       "</table>\n",
       "</div>"
      ],
      "text/plain": [
       "   Index                  Topic               Value\n",
       "0      0            ingredients               apple\n",
       "1      0                     id              673463\n",
       "2      0  missedIngredientCount                   2\n",
       "3      0                   type  missed__ingredient\n",
       "4      0                  aisle   Canned and Jarred"
      ]
     },
     "execution_count": 33,
     "metadata": {},
     "output_type": "execute_result"
    }
   ],
   "source": [
    "df2.head()"
   ]
  },
  {
   "cell_type": "code",
   "execution_count": 34,
   "metadata": {},
   "outputs": [
    {
     "name": "stdout",
     "output_type": "stream",
     "text": [
      "10\n"
     ]
    }
   ],
   "source": [
    "column_length=df.columns[:]\n",
    "column_length\n",
    "c_l=len(column_length)\n",
    "print(c_l)"
   ]
  },
  {
   "cell_type": "code",
   "execution_count": 35,
   "metadata": {},
   "outputs": [],
   "source": [
    "df2.drop(df2.loc[df2['Topic']==\"index\"].index, inplace=True)"
   ]
  },
  {
   "cell_type": "code",
   "execution_count": 36,
   "metadata": {},
   "outputs": [],
   "source": [
    "loc_index=0\n",
    "i=0\n",
    "j=1\n",
    "k=1\n",
    "indexing=[]\n",
    "first_value=df.iloc[0].ingredients\n",
    "\n",
    "\n",
    "for d in df['ingredients']:\n",
    "    i+=1\n",
    "    if(first_value!=d):\n",
    "        j+=1\n",
    "        i=1\n",
    "        first_value=d\n",
    "    for a in range (1,c_l+1):\n",
    "        indexing.append(str(j)+\".\"+str(i)+\".\"+str(a))"
   ]
  },
  {
   "cell_type": "code",
   "execution_count": 37,
   "metadata": {},
   "outputs": [],
   "source": [
    "df2['Index']=pd.Series(indexing)"
   ]
  },
  {
   "cell_type": "code",
   "execution_count": 38,
   "metadata": {},
   "outputs": [
    {
     "data": {
      "text/html": [
       "<div>\n",
       "<style scoped>\n",
       "    .dataframe tbody tr th:only-of-type {\n",
       "        vertical-align: middle;\n",
       "    }\n",
       "\n",
       "    .dataframe tbody tr th {\n",
       "        vertical-align: top;\n",
       "    }\n",
       "\n",
       "    .dataframe thead th {\n",
       "        text-align: right;\n",
       "    }\n",
       "</style>\n",
       "<table border=\"1\" class=\"dataframe\">\n",
       "  <thead>\n",
       "    <tr style=\"text-align: right;\">\n",
       "      <th></th>\n",
       "      <th>Index</th>\n",
       "      <th>Topic</th>\n",
       "      <th>Value</th>\n",
       "    </tr>\n",
       "  </thead>\n",
       "  <tbody>\n",
       "    <tr>\n",
       "      <th>0</th>\n",
       "      <td>1.1.1</td>\n",
       "      <td>ingredients</td>\n",
       "      <td>apple</td>\n",
       "    </tr>\n",
       "    <tr>\n",
       "      <th>1</th>\n",
       "      <td>1.1.2</td>\n",
       "      <td>id</td>\n",
       "      <td>673463</td>\n",
       "    </tr>\n",
       "    <tr>\n",
       "      <th>2</th>\n",
       "      <td>1.1.3</td>\n",
       "      <td>missedIngredientCount</td>\n",
       "      <td>2</td>\n",
       "    </tr>\n",
       "    <tr>\n",
       "      <th>3</th>\n",
       "      <td>1.1.4</td>\n",
       "      <td>type</td>\n",
       "      <td>missed__ingredient</td>\n",
       "    </tr>\n",
       "    <tr>\n",
       "      <th>4</th>\n",
       "      <td>1.1.5</td>\n",
       "      <td>aisle</td>\n",
       "      <td>Canned and Jarred</td>\n",
       "    </tr>\n",
       "    <tr>\n",
       "      <th>...</th>\n",
       "      <td>...</td>\n",
       "      <td>...</td>\n",
       "      <td>...</td>\n",
       "    </tr>\n",
       "    <tr>\n",
       "      <th>1615</th>\n",
       "      <td>5.42.6</td>\n",
       "      <td>usedIngridientCount</td>\n",
       "      <td>1</td>\n",
       "    </tr>\n",
       "    <tr>\n",
       "      <th>1616</th>\n",
       "      <td>5.42.7</td>\n",
       "      <td>title</td>\n",
       "      <td>No-Cook Cranberry Salad</td>\n",
       "    </tr>\n",
       "    <tr>\n",
       "      <th>1617</th>\n",
       "      <td>5.42.8</td>\n",
       "      <td>name</td>\n",
       "      <td>orange</td>\n",
       "    </tr>\n",
       "    <tr>\n",
       "      <th>1618</th>\n",
       "      <td>5.42.9</td>\n",
       "      <td>unit</td>\n",
       "      <td></td>\n",
       "    </tr>\n",
       "    <tr>\n",
       "      <th>1619</th>\n",
       "      <td>5.42.10</td>\n",
       "      <td>amount</td>\n",
       "      <td>2.0</td>\n",
       "    </tr>\n",
       "  </tbody>\n",
       "</table>\n",
       "<p>1620 rows × 3 columns</p>\n",
       "</div>"
      ],
      "text/plain": [
       "        Index                  Topic                    Value\n",
       "0       1.1.1            ingredients                    apple\n",
       "1       1.1.2                     id                   673463\n",
       "2       1.1.3  missedIngredientCount                        2\n",
       "3       1.1.4                   type       missed__ingredient\n",
       "4       1.1.5                  aisle        Canned and Jarred\n",
       "...       ...                    ...                      ...\n",
       "1615   5.42.6    usedIngridientCount                        1\n",
       "1616   5.42.7                  title  No-Cook Cranberry Salad\n",
       "1617   5.42.8                   name                   orange\n",
       "1618   5.42.9                   unit                         \n",
       "1619  5.42.10                 amount                      2.0\n",
       "\n",
       "[1620 rows x 3 columns]"
      ]
     },
     "execution_count": 38,
     "metadata": {},
     "output_type": "execute_result"
    }
   ],
   "source": [
    "df2"
   ]
  },
  {
   "cell_type": "code",
   "execution_count": 39,
   "metadata": {},
   "outputs": [],
   "source": [
    "df2.to_csv(\"format.csv\",index=False)"
   ]
  },
  {
   "cell_type": "code",
   "execution_count": null,
   "metadata": {},
   "outputs": [],
   "source": []
  }
 ],
 "metadata": {
  "kernelspec": {
   "display_name": "Python 3",
   "language": "python",
   "name": "python3"
  },
  "language_info": {
   "codemirror_mode": {
    "name": "ipython",
    "version": 3
   },
   "file_extension": ".py",
   "mimetype": "text/x-python",
   "name": "python",
   "nbconvert_exporter": "python",
   "pygments_lexer": "ipython3",
   "version": "3.10.4"
  },
  "orig_nbformat": 4,
  "vscode": {
   "interpreter": {
    "hash": "70305c97f51612ab8957f1ea61db844341dd8302a324247c459ae001431de089"
   }
  }
 },
 "nbformat": 4,
 "nbformat_minor": 2
}
