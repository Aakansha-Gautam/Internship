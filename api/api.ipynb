{
 "cells": [
  {
   "cell_type": "code",
   "execution_count": 3,
   "metadata": {},
   "outputs": [],
   "source": [
    "import pandas as pd\n",
    "import numpy as np"
   ]
  },
  {
   "cell_type": "code",
   "execution_count": 2,
   "metadata": {},
   "outputs": [],
   "source": [
    "\n",
    "df = pd.read_json ('recipes.json', lines=True)\n",
    "df.to_csv('final_csv.csv',index = None)"
   ]
  },
  {
   "cell_type": "code",
   "execution_count": 5,
   "metadata": {},
   "outputs": [],
   "source": [
    "for d in df['unit']:\n",
    "    if d==\"\":\n",
    "        d=np.NAN"
   ]
  },
  {
   "cell_type": "code",
   "execution_count": 13,
   "metadata": {},
   "outputs": [],
   "source": [
    "df.dropna(inplace=True)"
   ]
  },
  {
   "cell_type": "code",
   "execution_count": 14,
   "metadata": {},
   "outputs": [
    {
     "data": {
      "text/html": [
       "<div>\n",
       "<style scoped>\n",
       "    .dataframe tbody tr th:only-of-type {\n",
       "        vertical-align: middle;\n",
       "    }\n",
       "\n",
       "    .dataframe tbody tr th {\n",
       "        vertical-align: top;\n",
       "    }\n",
       "\n",
       "    .dataframe thead th {\n",
       "        text-align: right;\n",
       "    }\n",
       "</style>\n",
       "<table border=\"1\" class=\"dataframe\">\n",
       "  <thead>\n",
       "    <tr style=\"text-align: right;\">\n",
       "      <th></th>\n",
       "      <th>ingredients</th>\n",
       "      <th>id</th>\n",
       "      <th>missedIngredientCount</th>\n",
       "      <th>type</th>\n",
       "      <th>aisle</th>\n",
       "      <th>usedIngridientCount</th>\n",
       "      <th>title</th>\n",
       "      <th>name</th>\n",
       "      <th>unit</th>\n",
       "      <th>amount</th>\n",
       "    </tr>\n",
       "  </thead>\n",
       "  <tbody>\n",
       "    <tr>\n",
       "      <th>0</th>\n",
       "      <td>apple</td>\n",
       "      <td>673463</td>\n",
       "      <td>2</td>\n",
       "      <td>missed__ingredient</td>\n",
       "      <td>Canned and Jarred</td>\n",
       "      <td>2.0</td>\n",
       "      <td>Slow Cooker Apple Pork Tenderloin</td>\n",
       "      <td>beef broth</td>\n",
       "      <td>cups</td>\n",
       "      <td>2.0</td>\n",
       "    </tr>\n",
       "    <tr>\n",
       "      <th>1</th>\n",
       "      <td>apple</td>\n",
       "      <td>673463</td>\n",
       "      <td>2</td>\n",
       "      <td>missed__ingredient</td>\n",
       "      <td>Meat</td>\n",
       "      <td>2.0</td>\n",
       "      <td>Slow Cooker Apple Pork Tenderloin</td>\n",
       "      <td>pork tenderloin</td>\n",
       "      <td>serving</td>\n",
       "      <td>1.0</td>\n",
       "    </tr>\n",
       "    <tr>\n",
       "      <th>4</th>\n",
       "      <td>apple</td>\n",
       "      <td>660261</td>\n",
       "      <td>2</td>\n",
       "      <td>missed__ingredient</td>\n",
       "      <td>Spices and Seasonings</td>\n",
       "      <td>1.0</td>\n",
       "      <td>Slow Cooked Applesauce</td>\n",
       "      <td>cinnamon</td>\n",
       "      <td>teaspoon</td>\n",
       "      <td>0.5</td>\n",
       "    </tr>\n",
       "    <tr>\n",
       "      <th>5</th>\n",
       "      <td>apple</td>\n",
       "      <td>660261</td>\n",
       "      <td>2</td>\n",
       "      <td>missed__ingredient</td>\n",
       "      <td>Spices and Seasonings</td>\n",
       "      <td>1.0</td>\n",
       "      <td>Slow Cooked Applesauce</td>\n",
       "      <td>nutmeg</td>\n",
       "      <td>pinch</td>\n",
       "      <td>1.0</td>\n",
       "    </tr>\n",
       "    <tr>\n",
       "      <th>7</th>\n",
       "      <td>apple</td>\n",
       "      <td>633547</td>\n",
       "      <td>2</td>\n",
       "      <td>missed__ingredient</td>\n",
       "      <td>Spices and Seasonings</td>\n",
       "      <td>1.0</td>\n",
       "      <td>Baked Cinnamon Apple Slices</td>\n",
       "      <td>cinnamon</td>\n",
       "      <td>tablespoons</td>\n",
       "      <td>1.5</td>\n",
       "    </tr>\n",
       "  </tbody>\n",
       "</table>\n",
       "</div>"
      ],
      "text/plain": [
       "  ingredients      id  missedIngredientCount                type  \\\n",
       "0       apple  673463                      2  missed__ingredient   \n",
       "1       apple  673463                      2  missed__ingredient   \n",
       "4       apple  660261                      2  missed__ingredient   \n",
       "5       apple  660261                      2  missed__ingredient   \n",
       "7       apple  633547                      2  missed__ingredient   \n",
       "\n",
       "                   aisle  usedIngridientCount  \\\n",
       "0      Canned and Jarred                  2.0   \n",
       "1                   Meat                  2.0   \n",
       "4  Spices and Seasonings                  1.0   \n",
       "5  Spices and Seasonings                  1.0   \n",
       "7  Spices and Seasonings                  1.0   \n",
       "\n",
       "                               title             name         unit  amount  \n",
       "0  Slow Cooker Apple Pork Tenderloin       beef broth         cups     2.0  \n",
       "1  Slow Cooker Apple Pork Tenderloin  pork tenderloin      serving     1.0  \n",
       "4             Slow Cooked Applesauce         cinnamon     teaspoon     0.5  \n",
       "5             Slow Cooked Applesauce           nutmeg        pinch     1.0  \n",
       "7        Baked Cinnamon Apple Slices         cinnamon  tablespoons     1.5  "
      ]
     },
     "execution_count": 14,
     "metadata": {},
     "output_type": "execute_result"
    }
   ],
   "source": [
    "df.head()"
   ]
  },
  {
   "cell_type": "code",
   "execution_count": 19,
   "metadata": {},
   "outputs": [],
   "source": [
    "df2 = df.stack().reset_index()\n",
    "df2= df2.rename(columns={'level_0': 'Index','level_1':'Topic', 0: 'Value'})"
   ]
  },
  {
   "cell_type": "code",
   "execution_count": 20,
   "metadata": {},
   "outputs": [
    {
     "data": {
      "text/html": [
       "<div>\n",
       "<style scoped>\n",
       "    .dataframe tbody tr th:only-of-type {\n",
       "        vertical-align: middle;\n",
       "    }\n",
       "\n",
       "    .dataframe tbody tr th {\n",
       "        vertical-align: top;\n",
       "    }\n",
       "\n",
       "    .dataframe thead th {\n",
       "        text-align: right;\n",
       "    }\n",
       "</style>\n",
       "<table border=\"1\" class=\"dataframe\">\n",
       "  <thead>\n",
       "    <tr style=\"text-align: right;\">\n",
       "      <th></th>\n",
       "      <th>Index</th>\n",
       "      <th>Topic</th>\n",
       "      <th>Value</th>\n",
       "    </tr>\n",
       "  </thead>\n",
       "  <tbody>\n",
       "    <tr>\n",
       "      <th>0</th>\n",
       "      <td>0</td>\n",
       "      <td>ingredients</td>\n",
       "      <td>apple</td>\n",
       "    </tr>\n",
       "    <tr>\n",
       "      <th>1</th>\n",
       "      <td>0</td>\n",
       "      <td>id</td>\n",
       "      <td>673463</td>\n",
       "    </tr>\n",
       "    <tr>\n",
       "      <th>2</th>\n",
       "      <td>0</td>\n",
       "      <td>missedIngredientCount</td>\n",
       "      <td>2</td>\n",
       "    </tr>\n",
       "    <tr>\n",
       "      <th>3</th>\n",
       "      <td>0</td>\n",
       "      <td>type</td>\n",
       "      <td>missed__ingredient</td>\n",
       "    </tr>\n",
       "    <tr>\n",
       "      <th>4</th>\n",
       "      <td>0</td>\n",
       "      <td>aisle</td>\n",
       "      <td>Canned and Jarred</td>\n",
       "    </tr>\n",
       "  </tbody>\n",
       "</table>\n",
       "</div>"
      ],
      "text/plain": [
       "   Index                  Topic               Value\n",
       "0      0            ingredients               apple\n",
       "1      0                     id              673463\n",
       "2      0  missedIngredientCount                   2\n",
       "3      0                   type  missed__ingredient\n",
       "4      0                  aisle   Canned and Jarred"
      ]
     },
     "execution_count": 20,
     "metadata": {},
     "output_type": "execute_result"
    }
   ],
   "source": [
    "df2.head()"
   ]
  },
  {
   "cell_type": "code",
   "execution_count": 21,
   "metadata": {},
   "outputs": [
    {
     "name": "stdout",
     "output_type": "stream",
     "text": [
      "10\n"
     ]
    }
   ],
   "source": [
    "column_length=df.columns[:]\n",
    "column_length\n",
    "c_l=len(column_length)\n",
    "print(c_l)"
   ]
  },
  {
   "cell_type": "code",
   "execution_count": 22,
   "metadata": {},
   "outputs": [],
   "source": [
    "df2.drop(df2.loc[df2['Topic']==\"index\"].index, inplace=True)"
   ]
  },
  {
   "cell_type": "code",
   "execution_count": 24,
   "metadata": {},
   "outputs": [],
   "source": [
    "loc_index=0\n",
    "i=0\n",
    "j=1\n",
    "k=1\n",
    "indexing=[]\n",
    "first_value=df.iloc[0].ingredients\n",
    "\n",
    "\n",
    "for d in df['ingredients']:\n",
    "    i+=1\n",
    "    if(first_value!=d):\n",
    "        j+=1\n",
    "        i=1\n",
    "        first_value=d\n",
    "    for a in range (1,c_l+1):\n",
    "        indexing.append(str(j)+\".\"+str(i)+\".\"+str(a))"
   ]
  },
  {
   "cell_type": "code",
   "execution_count": 25,
   "metadata": {},
   "outputs": [],
   "source": [
    "df2['Index']=pd.Series(indexing)"
   ]
  },
  {
   "cell_type": "code",
   "execution_count": 26,
   "metadata": {},
   "outputs": [
    {
     "data": {
      "text/html": [
       "<div>\n",
       "<style scoped>\n",
       "    .dataframe tbody tr th:only-of-type {\n",
       "        vertical-align: middle;\n",
       "    }\n",
       "\n",
       "    .dataframe tbody tr th {\n",
       "        vertical-align: top;\n",
       "    }\n",
       "\n",
       "    .dataframe thead th {\n",
       "        text-align: right;\n",
       "    }\n",
       "</style>\n",
       "<table border=\"1\" class=\"dataframe\">\n",
       "  <thead>\n",
       "    <tr style=\"text-align: right;\">\n",
       "      <th></th>\n",
       "      <th>Index</th>\n",
       "      <th>Topic</th>\n",
       "      <th>Value</th>\n",
       "    </tr>\n",
       "  </thead>\n",
       "  <tbody>\n",
       "    <tr>\n",
       "      <th>0</th>\n",
       "      <td>1.1.1</td>\n",
       "      <td>ingredients</td>\n",
       "      <td>apple</td>\n",
       "    </tr>\n",
       "    <tr>\n",
       "      <th>1</th>\n",
       "      <td>1.1.2</td>\n",
       "      <td>id</td>\n",
       "      <td>673463</td>\n",
       "    </tr>\n",
       "    <tr>\n",
       "      <th>2</th>\n",
       "      <td>1.1.3</td>\n",
       "      <td>missedIngredientCount</td>\n",
       "      <td>2</td>\n",
       "    </tr>\n",
       "    <tr>\n",
       "      <th>3</th>\n",
       "      <td>1.1.4</td>\n",
       "      <td>type</td>\n",
       "      <td>missed__ingredient</td>\n",
       "    </tr>\n",
       "    <tr>\n",
       "      <th>4</th>\n",
       "      <td>1.1.5</td>\n",
       "      <td>aisle</td>\n",
       "      <td>Canned and Jarred</td>\n",
       "    </tr>\n",
       "    <tr>\n",
       "      <th>...</th>\n",
       "      <td>...</td>\n",
       "      <td>...</td>\n",
       "      <td>...</td>\n",
       "    </tr>\n",
       "    <tr>\n",
       "      <th>1055</th>\n",
       "      <td>5.9.6</td>\n",
       "      <td>usedIngridientCount</td>\n",
       "      <td>1.0</td>\n",
       "    </tr>\n",
       "    <tr>\n",
       "      <th>1056</th>\n",
       "      <td>5.9.7</td>\n",
       "      <td>title</td>\n",
       "      <td>Rösti With Papaya Salad</td>\n",
       "    </tr>\n",
       "    <tr>\n",
       "      <th>1057</th>\n",
       "      <td>5.9.8</td>\n",
       "      <td>name</td>\n",
       "      <td>turmeric powder</td>\n",
       "    </tr>\n",
       "    <tr>\n",
       "      <th>1058</th>\n",
       "      <td>5.9.9</td>\n",
       "      <td>unit</td>\n",
       "      <td>teaspoon</td>\n",
       "    </tr>\n",
       "    <tr>\n",
       "      <th>1059</th>\n",
       "      <td>5.9.10</td>\n",
       "      <td>amount</td>\n",
       "      <td>0.25</td>\n",
       "    </tr>\n",
       "  </tbody>\n",
       "</table>\n",
       "<p>1060 rows × 3 columns</p>\n",
       "</div>"
      ],
      "text/plain": [
       "       Index                  Topic                    Value\n",
       "0      1.1.1            ingredients                    apple\n",
       "1      1.1.2                     id                   673463\n",
       "2      1.1.3  missedIngredientCount                        2\n",
       "3      1.1.4                   type       missed__ingredient\n",
       "4      1.1.5                  aisle        Canned and Jarred\n",
       "...      ...                    ...                      ...\n",
       "1055   5.9.6    usedIngridientCount                      1.0\n",
       "1056   5.9.7                  title  Rösti With Papaya Salad\n",
       "1057   5.9.8                   name          turmeric powder\n",
       "1058   5.9.9                   unit                 teaspoon\n",
       "1059  5.9.10                 amount                     0.25\n",
       "\n",
       "[1060 rows x 3 columns]"
      ]
     },
     "execution_count": 26,
     "metadata": {},
     "output_type": "execute_result"
    }
   ],
   "source": [
    "df2"
   ]
  },
  {
   "cell_type": "code",
   "execution_count": 27,
   "metadata": {},
   "outputs": [],
   "source": [
    "df2.to_csv(\"format.csv\",index=False)"
   ]
  },
  {
   "cell_type": "code",
   "execution_count": null,
   "metadata": {},
   "outputs": [],
   "source": []
  }
 ],
 "metadata": {
  "kernelspec": {
   "display_name": "Python 3",
   "language": "python",
   "name": "python3"
  },
  "language_info": {
   "codemirror_mode": {
    "name": "ipython",
    "version": 3
   },
   "file_extension": ".py",
   "mimetype": "text/x-python",
   "name": "python",
   "nbconvert_exporter": "python",
   "pygments_lexer": "ipython3",
   "version": "3.10.4"
  },
  "orig_nbformat": 4,
  "vscode": {
   "interpreter": {
    "hash": "70305c97f51612ab8957f1ea61db844341dd8302a324247c459ae001431de089"
   }
  }
 },
 "nbformat": 4,
 "nbformat_minor": 2
}
